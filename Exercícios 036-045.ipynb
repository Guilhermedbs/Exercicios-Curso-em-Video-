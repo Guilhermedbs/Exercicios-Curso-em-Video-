{
 "cells": [
  {
   "cell_type": "markdown",
   "id": "618df1db",
   "metadata": {},
   "source": [
    "# Exercício 36"
   ]
  },
  {
   "cell_type": "code",
   "execution_count": 11,
   "id": "9068f35b",
   "metadata": {},
   "outputs": [
    {
     "name": "stdout",
     "output_type": "stream",
     "text": [
      "Qual o valor da casa que você quer comprar?100000\n",
      "Quanto é o seu salário?1000\n",
      "Em quantos anos você pretende pagar a casa?2\n",
      "A prestação será de 4166.67 Reais por mês!\n",
      "Você não pode financiar esta casa ;.;\n"
     ]
    }
   ],
   "source": [
    "v=float(input('Qual o valor da casa que você quer comprar?'))\n",
    "s=float(input('Quanto é o seu salário?'))\n",
    "t=float(input('Em quantos anos você pretende pagar a casa?'))\n",
    "p=v/(t*12)\n",
    "print(f'A prestação será de {p:.2f} Reais por mês!')\n",
    "if p>(s*0.3):\n",
    "    print('Você não pode financiar esta casa ;.;')\n",
    "else:\n",
    "    print('Seu empréstimo foi aceito!!')\n",
    "        "
   ]
  },
  {
   "cell_type": "markdown",
   "id": "f56c4a83",
   "metadata": {},
   "source": [
    "# Exercício 37"
   ]
  },
  {
   "cell_type": "code",
   "execution_count": 23,
   "id": "2c56badd",
   "metadata": {},
   "outputs": [
    {
     "name": "stdout",
     "output_type": "stream",
     "text": [
      "Digite um número: 16\n",
      "Digite 1 para converter para binário \n",
      "Digite 2 para converter para octal \n",
      "Digite 3 para converter para hexadecimal \n",
      "Escolha para qual base deseja converter este número: 2\n",
      "O número na forma octal é: 20\n"
     ]
    }
   ],
   "source": [
    "x = int(input('Digite um número: '))\n",
    "print('Digite 1 para converter para binário ')\n",
    "print('Digite 2 para converter para octal ')\n",
    "print('Digite 3 para converter para hexadecimal ')\n",
    "e = int(input('Escolha para qual base deseja converter este número: '))\n",
    "if e == 1:\n",
    "    print(f'O número na forma binária é: {bin(x)[2:]}')\n",
    "elif e == 2:\n",
    "    print(f'O número na forma octal é: {oct(x)[2:]}')\n",
    "elif e == 3:\n",
    "    print(f'O número na forma hexadecimal é: {hex(x)[2:]}')\n",
    "else:\n",
    "    print('Você não escolheu nenhuma das opções validas!')"
   ]
  },
  {
   "cell_type": "markdown",
   "id": "4635fba4",
   "metadata": {},
   "source": [
    "# Exercício 38"
   ]
  },
  {
   "cell_type": "code",
   "execution_count": 22,
   "id": "361e9e1e",
   "metadata": {},
   "outputs": [
    {
     "name": "stdout",
     "output_type": "stream",
     "text": [
      "Digite dois números inteiros, para compará-los\n",
      "O primeiro número: 3\n",
      "O segundo número: 4\n",
      "O segundo valor é maior que o primeiro \n"
     ]
    }
   ],
   "source": [
    "print('Digite dois números inteiros, para compará-los')\n",
    "p = int(input('O primeiro número: '))\n",
    "s = int(input('O segundo número: '))\n",
    "if p > s:\n",
    "    print('O primeiro valor é maior que o segundo ')\n",
    "elif s > p:\n",
    "    print('O segundo valor é maior que o primeiro ')\n",
    "elif s == p:\n",
    "    print('Os valores são iguais!')"
   ]
  },
  {
   "cell_type": "markdown",
   "id": "ef2262ef",
   "metadata": {},
   "source": [
    "# Exercício 39"
   ]
  },
  {
   "cell_type": "code",
   "execution_count": 1,
   "id": "aff4039a",
   "metadata": {},
   "outputs": [
    {
     "name": "stdout",
     "output_type": "stream",
     "text": [
      "Informe o seu ano de nascimento: 2002\n",
      "Já passou da hora de se alistar, voçê deveria ter feito isso 2 anos atrás!\n"
     ]
    }
   ],
   "source": [
    "from datetime import date\n",
    "year = date.today().year\n",
    "n=int(input('Informe o seu ano de nascimento: '))\n",
    "idade = (year-n)\n",
    "if idade == 18:\n",
    "    print('Está na hora de se alistar!')\n",
    "elif idade > 18:\n",
    "    print(f'Já passou da hora de se alistar, voçê deveria ter feito isso {idade-18} anos atrás!')\n",
    "elif idade < 18:\n",
    "    print(f'Ainda não está na hora de se alistar, ainda falta {18-idade} anos')"
   ]
  },
  {
   "cell_type": "markdown",
   "id": "5e2bf74b",
   "metadata": {},
   "source": [
    "# Exercício 40"
   ]
  },
  {
   "cell_type": "code",
   "execution_count": 18,
   "id": "135fe0df",
   "metadata": {},
   "outputs": [
    {
     "name": "stdout",
     "output_type": "stream",
     "text": [
      "Informe as duas notas do aluno\n",
      "Insira a primeira nota:2\n",
      "Insira a segunda nota: 3\n",
      "A média do aluno foi 2.5, o aluno foi reprovado\n"
     ]
    }
   ],
   "source": [
    "print('Informe as duas notas do aluno')\n",
    "n1 = float(input('Insira a primeira nota:'))\n",
    "n2 = float(input('Insira a segunda nota: '))\n",
    "media = (n1+n2)/2\n",
    "if media < 5:\n",
    "    print(f'A média do aluno foi {media}, o aluno foi reprovado')\n",
    "elif media >= 7:\n",
    "    print(f'A média do aluno foi {media}, o aluno foi aprovado')\n",
    "else:\n",
    "    print(f'A média do aluno foi {media}, o aluno está de recuperação')\n"
   ]
  },
  {
   "cell_type": "markdown",
   "id": "fac271ba",
   "metadata": {},
   "source": [
    "# Exercício 41"
   ]
  },
  {
   "cell_type": "code",
   "execution_count": 10,
   "id": "57b543e4",
   "metadata": {},
   "outputs": [
    {
     "name": "stdout",
     "output_type": "stream",
     "text": [
      "Informe o ano de nascimento do atleta: 1950\n",
      "Este atleta tem 72 anos e por isso pertence a categoira Master\n"
     ]
    }
   ],
   "source": [
    "from datetime import date\n",
    "year = date.today().year\n",
    "nas = int(input('Informe o ano de nascimento do atleta: '))\n",
    "idade = year-nas\n",
    "if idade <= 9:\n",
    "    print(f'Este atleta tem {idade} anos e por isso pertence a categoira mirim')\n",
    "elif 9 < idade <= 14 :\n",
    "    print(f'Este atleta tem {idade} anos e por isso pertence a categoira infantil')\n",
    "elif 14 < idade <= 19 :\n",
    "    print(f'Este atleta tem {idade} anos e por isso pertence a categoira júnior')\n",
    "elif 19 < idade <= 25 :\n",
    "    print(f'Este atleta tem {idade} anos e por isso pertence a categoira sênior')\n",
    "else:\n",
    "    print(f'Este atleta tem {idade} anos e por isso pertence a categoira Master')\n"
   ]
  },
  {
   "cell_type": "markdown",
   "id": "e0cdba22",
   "metadata": {},
   "source": [
    "# Exercício 42"
   ]
  },
  {
   "cell_type": "code",
   "execution_count": 12,
   "id": "8ad546d6",
   "metadata": {},
   "outputs": [
    {
     "name": "stdout",
     "output_type": "stream",
     "text": [
      "informe o tamanho da primeira reta: 4\n",
      "informe o tamanho da segunda reta: 4\n",
      "informe o tamanho da terceira reta: 3\n",
      "As retas podem formar um triângulo isósceles\n"
     ]
    }
   ],
   "source": [
    "a=float(input('informe o tamanho da primeira reta: '))\n",
    "b=float(input('informe o tamanho da segunda reta: '))\n",
    "c=float(input('informe o tamanho da terceira reta: '))\n",
    "if abs(b-c)<a<b+c and abs(a-c)<b<a+c and abs(b-a)<c<b+a:\n",
    "    if a != b and a != c and b != c:\n",
    "        print('As retas podem formar um triângulo escaleno')\n",
    "    elif a == b == c:\n",
    "        print('As retas podem formar um triângulo equilátero')\n",
    "    else:\n",
    "        print('As retas podem formar um triângulo isósceles')\n",
    "else:\n",
    "    print('As retas não podem formar um triângulo')\n",
    "\n",
    "    "
   ]
  },
  {
   "cell_type": "markdown",
   "id": "7955b7b0",
   "metadata": {},
   "source": [
    "# Exercício 43 "
   ]
  },
  {
   "cell_type": "code",
   "execution_count": 28,
   "id": "a1a41617",
   "metadata": {},
   "outputs": [
    {
     "name": "stdout",
     "output_type": "stream",
     "text": [
      "Informe o peso e altura para calular o seu IMC\n",
      "Qual é o seu peso? 86\n",
      "Qual é a sua altura 1.73\n",
      "O seu IMC é de 28.73\n",
      "De acordo com o seu IMC, você está com sobrepeso\n"
     ]
    }
   ],
   "source": [
    "print('Informe o peso e altura para calular o seu IMC')\n",
    "p = float(input('Qual é o seu peso? '))\n",
    "a = float(input('Qual é a sua altura ')) \n",
    "imc = p/(a*a)\n",
    "print(f'O seu IMC é de {imc:.2f}')\n",
    "if imc < 18.5:\n",
    "    print('De acordo com o seu IMC, você está abaixo do peso')\n",
    "elif 18.5 <= imc < 25:\n",
    "    print('De acordo com o seu IMC, você está com o peso ideal')\n",
    "elif 25 <= imc < 30:\n",
    "    print('De acordo com o seu IMC, você está com sobrepeso')\n",
    "elif 30 <= imc < 40:\n",
    "    print('De acordo com o seu IMC, você está com obesidade')\n",
    "else:\n",
    "    print('De acordo com o seu IMC, você está com obesidade morbida')\n"
   ]
  },
  {
   "cell_type": "markdown",
   "id": "a233d9f2",
   "metadata": {},
   "source": [
    "# Exercício 44"
   ]
  },
  {
   "cell_type": "code",
   "execution_count": 11,
   "id": "77b933a4",
   "metadata": {},
   "outputs": [
    {
     "name": "stdout",
     "output_type": "stream",
     "text": [
      "Qual o preço da compra? 1000\n",
      "Formas de Pagamento:\n",
      "(1) À vista dinheiro/cheque\n",
      "(2) À vista cartão\n",
      "(3) 2x no cartão\n",
      "(4) 3x ou mais no cartão\n",
      "Qual a sua escolha?4\n",
      "Quantas parcelas?4\n",
      "A sua compra de 1000.00R$ vai ficar no valor de 1200.00R$ em4 parcelas de 250.00R$\n"
     ]
    }
   ],
   "source": [
    "p = float(input('Qual o preço da compra? '))\n",
    "print('''Formas de Pagamento:\n",
    "(1) À vista dinheiro/cheque\n",
    "(2) À vista cartão\n",
    "(3) 2x no cartão\n",
    "(4) 3x ou mais no cartão''')\n",
    "o = int(input('Qual a sua escolha?'))\n",
    "if o == 1:\n",
    "    print(f'A sua compra de {p:.2f}R$ vai ficar no valor de {p*0.9:.2f}R$')\n",
    "elif o == 2:\n",
    "    print(f'A sua compra de {p:.2f}R$ vai ficar no valor de {p*0.95:.2f}R$')\n",
    "elif o == 3:\n",
    "    print(f'A sua compra de {p:.2f}R$ vai ficar no valor de {p:.2f}R$ em duas parcelas de {p/2:.2f}R$')\n",
    "elif o == 4:\n",
    "    par = int(input('Quantas parcelas?'))\n",
    "    print(f'A sua compra de {p:.2f}R$ vai ficar no valor de {p*1.2:.2f}R$ em'\n",
    "          f' {par} parcelas de {p/par:.2f}R$')\n",
    "else:\n",
    "    print('Opção invalida')"
   ]
  },
  {
   "cell_type": "markdown",
   "id": "2b2276cb",
   "metadata": {},
   "source": [
    "# Exercício 45"
   ]
  },
  {
   "cell_type": "code",
   "execution_count": null,
   "id": "1072e4df",
   "metadata": {},
   "outputs": [],
   "source": [
    "from random import randint \n",
    "print('''Vamos jogar pedra, papel ou tesoura\n",
    "         (0)Para pedra \n",
    "         (1)Para papel\n",
    "         (2)Para tesoura''')\n",
    "l = ('pedra','papel','tesoura')\n",
    "n = randint(0,2)\n",
    "print(n)\n",
    "i = int(input('Escolha sua jogada: '))\n",
    "if 0 <= i < 3:\n",
    "    print(f'Você jogou {l[i]}!')\n",
    "    print(f'O computador jogou {l[n]}!')\n",
    "    if n == i:\n",
    "        print('O jogo deu empate!')\n",
    "    elif n == 0 and i == 2:\n",
    "        print('O computador ganhou!')\n",
    "    elif n == 1 and i == 0:\n",
    "        print('O computador ganhou!')\n",
    "    elif n == 2 and i == 1: \n",
    "        print('O computador ganhou!')\n",
    "    else:\n",
    "        print('Voçê ganhou!')\n",
    "else: \n",
    "    print('Opção invalida, tente novamente')"
   ]
  }
 ],
 "metadata": {
  "kernelspec": {
   "display_name": "Python 3 (ipykernel)",
   "language": "python",
   "name": "python3"
  },
  "language_info": {
   "codemirror_mode": {
    "name": "ipython",
    "version": 3
   },
   "file_extension": ".py",
   "mimetype": "text/x-python",
   "name": "python",
   "nbconvert_exporter": "python",
   "pygments_lexer": "ipython3",
   "version": "3.9.12"
  }
 },
 "nbformat": 4,
 "nbformat_minor": 5
}
