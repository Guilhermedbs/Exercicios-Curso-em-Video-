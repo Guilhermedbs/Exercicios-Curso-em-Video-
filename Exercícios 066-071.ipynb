{
 "cells": [
  {
   "cell_type": "markdown",
   "id": "da50e114",
   "metadata": {},
   "source": [
    "# Exercício 66"
   ]
  },
  {
   "cell_type": "code",
   "execution_count": 3,
   "id": "10f738e1",
   "metadata": {},
   "outputs": [
    {
     "name": "stdout",
     "output_type": "stream",
     "text": [
      "Digite um número inteiro: 22\n",
      "Digite um número inteiro: 25\n",
      "Digite um número inteiro: 60\n",
      "Digite um número inteiro: 999\n",
      "A soma dos 3 números que você digitou é 107\n"
     ]
    }
   ],
   "source": [
    "soma = count = 0\n",
    "while True: \n",
    "    n = int(input('Digite um número inteiro (digite 999 para parar!): '))\n",
    "    if n == 999:\n",
    "        break\n",
    "    soma += n\n",
    "    count += 1\n",
    "print(f'A soma dos {count} números que você digitou é {soma}')"
   ]
  },
  {
   "cell_type": "markdown",
   "id": "26a82b52",
   "metadata": {},
   "source": [
    "# Exercício 67"
   ]
  },
  {
   "cell_type": "code",
   "execution_count": 6,
   "id": "cd622b77",
   "metadata": {},
   "outputs": [
    {
     "name": "stdout",
     "output_type": "stream",
     "text": [
      "Você quer saber a tabuada de qual número?(Digite um número negativo se para parar): 2\n",
      "2 x 1 = 2\n",
      "2 x 2 = 4\n",
      "2 x 3 = 6\n",
      "2 x 4 = 8\n",
      "2 x 5 = 10\n",
      "2 x 6 = 12\n",
      "2 x 7 = 14\n",
      "2 x 8 = 16\n",
      "2 x 9 = 18\n",
      "2 x 10 = 20\n",
      "Esta é a tabuada do número 2\n",
      "Você quer saber a tabuada de qual número?(Digite um número negativo se para parar): 3\n",
      "3 x 1 = 3\n",
      "3 x 2 = 6\n",
      "3 x 3 = 9\n",
      "3 x 4 = 12\n",
      "3 x 5 = 15\n",
      "3 x 6 = 18\n",
      "3 x 7 = 21\n",
      "3 x 8 = 24\n",
      "3 x 9 = 27\n",
      "3 x 10 = 30\n",
      "Esta é a tabuada do número 3\n",
      "Você quer saber a tabuada de qual número?(Digite um número negativo se para parar): 4\n",
      "4 x 1 = 4\n",
      "4 x 2 = 8\n",
      "4 x 3 = 12\n",
      "4 x 4 = 16\n",
      "4 x 5 = 20\n",
      "4 x 6 = 24\n",
      "4 x 7 = 28\n",
      "4 x 8 = 32\n",
      "4 x 9 = 36\n",
      "4 x 10 = 40\n",
      "Esta é a tabuada do número 4\n",
      "Você quer saber a tabuada de qual número?(Digite um número negativo se para parar): -1\n",
      "Programa encerrado!\n"
     ]
    }
   ],
   "source": [
    "while True:\n",
    "    n = int(input('Você quer saber a tabuada de qual número?(Digite um número negativo se para parar): '))\n",
    "    if n < 0:\n",
    "        break\n",
    "    for c in range(1,11):\n",
    "        print(f'{n} x {c} = {n*c}')\n",
    "    print(f'Esta é a tabuada do número {n}')\n",
    "print('Programa encerrado!')"
   ]
  },
  {
   "cell_type": "markdown",
   "id": "09e960c9",
   "metadata": {},
   "source": [
    "# Exercício 68"
   ]
  },
  {
   "cell_type": "code",
   "execution_count": 6,
   "id": "15e08144",
   "metadata": {},
   "outputs": [
    {
     "name": "stdout",
     "output_type": "stream",
     "text": [
      "Vamos jogar Impar ou Par!\n",
      "Digite um número: 2\n",
      "Escolha ímpar ou par(I/P): v\n",
      "Escolha ímpar ou par(I/P): p\n",
      "Você jogou 2 e o computador jogou 3 e 5 é Ímpar!\n",
      "Você Perdeu!\n",
      "Você ganhou 0 vezes\n"
     ]
    }
   ],
   "source": [
    "from random import randint\n",
    "esc = ' '\n",
    "soma = count = 0\n",
    "jogo = 'p'\n",
    "\n",
    "print('Vamos jogar Impar ou Par!')\n",
    "while True:\n",
    "    n = int(input('Digite um número: '))\n",
    "    while esc not in 'pi':\n",
    "        esc = str(input('Escolha ímpar ou par(I/P): ')).strip().lower()[0]\n",
    "    comp = randint(1,10)\n",
    "    soma = n + comp \n",
    "    if soma%2 == 0:\n",
    "        jogo = 'Par'\n",
    "    else: \n",
    "        jogo = 'Ímpar'\n",
    "    print(f'Você jogou {n} e o computador jogou {comp} e {soma} é {jogo}!')\n",
    "    if esc == 'p' and jogo == 'Par' or esc =='i' and jogo == 'Ìmpar':\n",
    "        print('Você ganhou! \\n Vamos jogar novamente...')\n",
    "        count += 1\n",
    "    else:\n",
    "        print('Você Perdeu!')\n",
    "        break\n",
    "print (f'Você ganhou {count} vezes')\n",
    "    \n",
    "    \n",
    "    \n"
   ]
  },
  {
   "cell_type": "markdown",
   "id": "c8464269",
   "metadata": {},
   "source": [
    "# Exercícios 69"
   ]
  },
  {
   "cell_type": "code",
   "execution_count": 11,
   "id": "47103ba1",
   "metadata": {},
   "outputs": [
    {
     "name": "stdout",
     "output_type": "stream",
     "text": [
      "Informe a idade de uma pessoa: 22\n",
      "Agora informe o seu sexo(F/M): m\n",
      "Você deseja continuar?(S/N): j\n",
      "Você deseja continuar?(S/N): s\n",
      "Informe a idade de uma pessoa: 30\n",
      "Agora informe o seu sexo(F/M): f\n",
      "Você deseja continuar?(S/N): 15\n",
      "Você deseja continuar?(S/N): s\n",
      "Informe a idade de uma pessoa: 15\n",
      "Agora informe o seu sexo(F/M): f\n",
      "Você deseja continuar?(S/N): s\n",
      "Informe a idade de uma pessoa: 18\n",
      "Agora informe o seu sexo(F/M): f\n",
      "Você deseja continuar?(S/N): n\n",
      "Foram registrados 1 homens, 2 mulheres com menos de 20 anos e 3 maiores de 18 anos \n"
     ]
    }
   ],
   "source": [
    "M = H = adulto = 0\n",
    "while True:\n",
    "    idade = int(input('Informe a idade de uma pessoa: '))\n",
    "    sexo = resp =' '\n",
    "    while sexo not in 'fm':\n",
    "        sexo = str(input('Agora informe o seu sexo(F/M): ')).strip().lower()[0]\n",
    "    if idade >= 18:\n",
    "        adulto += 1\n",
    "    if idade < 20 and sexo == 'f':\n",
    "        M +=1\n",
    "    if sexo == 'm':\n",
    "        H += 1\n",
    "    while resp not in 'sn':\n",
    "        resp = str(input('Você deseja continuar?(S/N): ')).strip().lower()[0]\n",
    "    if resp == 'n':\n",
    "        break\n",
    "print(f'Foram registrados {H} homens, {M} mulheres com menos de 20 anos e {adulto} maiores de 18 anos ')"
   ]
  },
  {
   "cell_type": "markdown",
   "id": "aa2eea7c",
   "metadata": {},
   "source": [
    "# Exercício 70"
   ]
  },
  {
   "cell_type": "code",
   "execution_count": 5,
   "id": "277ee632",
   "metadata": {
    "scrolled": true
   },
   "outputs": [
    {
     "name": "stdout",
     "output_type": "stream",
     "text": [
      "Qual o nome do produto? comp \n",
      "Qual o preço do produto: 1000\n",
      "Você deseja continuar?(S/N): s\n",
      "Qual o nome do produto? lapis \n",
      "Qual o preço do produto: 2\n",
      "Você deseja continuar?(S/N): s\n",
      "Qual o nome do produto? carro \n",
      "Qual o preço do produto: 100000\n",
      "Você deseja continuar?(S/N): n\n",
      "O total da compra deu 101002.00RS\n",
      "O produto mais barato foi o lapis e custou 2.00RS\n",
      "1 produtos custaram mais de 1000RS\n"
     ]
    }
   ],
   "source": [
    "mil = preco = total = menor = c = 0\n",
    "nome = barato = ''\n",
    "while True:\n",
    "    nome = str(input('Qual o nome do produto? ')).strip()\n",
    "    preco = float(input('Qual o preço do produto: '))\n",
    "    resp = ' '\n",
    "    c += 1\n",
    "    total += preco \n",
    "    if c == 1:\n",
    "        menor = preco\n",
    "    elif menor > preco:\n",
    "        menor = preco \n",
    "        barato = nome\n",
    "    if preco > 1000:\n",
    "        mil += 1\n",
    "    while resp not in 'sn':\n",
    "        resp = str(input('Você deseja continuar?(S/N): ')).strip().lower()[0]\n",
    "    if resp == 'n':\n",
    "        break\n",
    "print(f'O total da compra deu {total:.2f}RS')\n",
    "print(f'O produto mais barato foi o {barato} e custou {menor:.2f}RS')\n",
    "print(f'{mil} produtos custaram mais de 1000RS')\n",
    "    \n",
    "    "
   ]
  },
  {
   "cell_type": "markdown",
   "id": "86f6d15d",
   "metadata": {},
   "source": [
    "# Exercício 71"
   ]
  },
  {
   "cell_type": "code",
   "execution_count": 59,
   "id": "31eb9611",
   "metadata": {},
   "outputs": [
    {
     "name": "stdout",
     "output_type": "stream",
     "text": [
      "Qual o valor que deseja sacar? 203\n",
      "203\n",
      "3\n",
      "0\n",
      "Serão impressas 4 notas de cinquenta, 0 notas de vinte, 0 notas de dez e 3 notas de 1 que totalizam 203R$!\n"
     ]
    }
   ],
   "source": [
    "from math import floor\n",
    "cinq = vinte = dez = um = 0\n",
    "valor = int(input('Qual o valor que deseja sacar? '))\n",
    "total = valor \n",
    "while True:\n",
    "    if valor ==0:\n",
    "        break\n",
    "    elif 10 > valor >= 1:\n",
    "        um = valor\n",
    "        valor = valor - um\n",
    "    elif 20 > valor >= 10:\n",
    "        dez = floor(valor/10)\n",
    "        valor = valor - (10*dez)\n",
    "    elif 50 > valor >= 20:\n",
    "        vinte = floor(valor/20)\n",
    "        valor = valor - (20*vinte)\n",
    "    elif valor >= 50:\n",
    "        cinq = floor(valor/50)\n",
    "        valor = valor - (50*cinq)\n",
    "    \n",
    "print(f'Serão impressas {cinq} notas de cinquenta, {vinte} notas de vinte, {dez} notas de dez e', end = '')\n",
    "print(f' {um} notas de 1 que totalizam {total}R$!')"
   ]
  }
 ],
 "metadata": {
  "kernelspec": {
   "display_name": "Python 3 (ipykernel)",
   "language": "python",
   "name": "python3"
  },
  "language_info": {
   "codemirror_mode": {
    "name": "ipython",
    "version": 3
   },
   "file_extension": ".py",
   "mimetype": "text/x-python",
   "name": "python",
   "nbconvert_exporter": "python",
   "pygments_lexer": "ipython3",
   "version": "3.9.12"
  }
 },
 "nbformat": 4,
 "nbformat_minor": 5
}
