{
 "cells": [
  {
   "cell_type": "markdown",
   "id": "e55c1190",
   "metadata": {},
   "source": [
    "# Exercício 46"
   ]
  },
  {
   "cell_type": "code",
   "execution_count": 3,
   "id": "633fd90f",
   "metadata": {},
   "outputs": [
    {
     "name": "stdout",
     "output_type": "stream",
     "text": [
      "Contagem regressiva para os fogos de artifícios\n",
      "10\n",
      "9\n",
      "8\n",
      "7\n",
      "6\n",
      "5\n",
      "4\n",
      "3\n",
      "2\n",
      "1\n",
      "0\n",
      "Fim!\n"
     ]
    }
   ],
   "source": [
    "from time import sleep\n",
    "print('Contagem regressiva para os fogos de artifícios')\n",
    "for c in range(10,-1,-1):\n",
    "    sleep(1)\n",
    "    print(c)\n",
    "print('Fim!')\n"
   ]
  },
  {
   "cell_type": "markdown",
   "id": "2f809fa4",
   "metadata": {},
   "source": [
    "# Exercício 47"
   ]
  },
  {
   "cell_type": "code",
   "execution_count": 4,
   "id": "a557d2c6",
   "metadata": {
    "scrolled": true
   },
   "outputs": [
    {
     "name": "stdout",
     "output_type": "stream",
     "text": [
      "2\n",
      "4\n",
      "6\n",
      "8\n",
      "10\n",
      "12\n",
      "14\n",
      "16\n",
      "18\n",
      "20\n",
      "22\n",
      "24\n",
      "26\n",
      "28\n",
      "30\n",
      "32\n",
      "34\n",
      "36\n",
      "38\n",
      "40\n",
      "42\n",
      "44\n",
      "46\n",
      "48\n",
      "50\n",
      "Estes são todos os números pares de 1 a 50\n"
     ]
    }
   ],
   "source": [
    "for c in range (2,51,2):\n",
    "    print(c)\n",
    "print('Estes são todos os números pares de 1 a 50')"
   ]
  },
  {
   "cell_type": "markdown",
   "id": "3dc98c7c",
   "metadata": {},
   "source": [
    "# Exercício 48"
   ]
  },
  {
   "cell_type": "code",
   "execution_count": 4,
   "id": "559640ec",
   "metadata": {},
   "outputs": [
    {
     "name": "stdout",
     "output_type": "stream",
     "text": [
      "A soma de todos os 83 números impares  multiplos de 3 entre 0 e 500 é 20667\n"
     ]
    }
   ],
   "source": [
    "s = 0\n",
    "count = 0\n",
    "for n in range(1,501,2):\n",
    "    if n%3 == 0:\n",
    "        s += n\n",
    "        count += 1\n",
    "print(f'A soma de todos os {count} números impares multiplos de 3 entre 0 e 500 é {s}')"
   ]
  },
  {
   "cell_type": "markdown",
   "id": "cdc1e86b",
   "metadata": {},
   "source": [
    "# Exercício 49"
   ]
  },
  {
   "cell_type": "code",
   "execution_count": 9,
   "id": "36a311db",
   "metadata": {},
   "outputs": [
    {
     "name": "stdout",
     "output_type": "stream",
     "text": [
      "Você quer saber a tabuada de qual número? 9\n",
      "9 x 1 = 9\n",
      "9 x 2 = 18\n",
      "9 x 3 = 27\n",
      "9 x 4 = 36\n",
      "9 x 5 = 45\n",
      "9 x 6 = 54\n",
      "9 x 7 = 63\n",
      "9 x 8 = 72\n",
      "9 x 9 = 81\n",
      "9 x 10 = 90\n",
      "Esta é a tabuada do número 9\n"
     ]
    }
   ],
   "source": [
    "n = int(input('Você quer saber a tabuada de qual número? '))\n",
    "\n",
    "for c in range(1,11):\n",
    "    print(f'{n} x {c} = {n*c}')\n",
    "print(f'Esta é a tabuada do número {n}')"
   ]
  },
  {
   "cell_type": "markdown",
   "id": "9b288f9e",
   "metadata": {},
   "source": [
    "# Exercício 50"
   ]
  },
  {
   "cell_type": "code",
   "execution_count": 11,
   "id": "1315dd0b",
   "metadata": {},
   "outputs": [
    {
     "name": "stdout",
     "output_type": "stream",
     "text": [
      "Digite seis números inteiros!\n",
      "insira o 1° número: 2\n",
      "insira o 2° número: 3\n",
      "insira o 3° número: 4\n",
      "insira o 4° número: 6\n",
      "insira o 5° número: 8\n",
      "insira o 6° número: 9\n",
      "A soma dos 4 números pares que você digitou é 20\n"
     ]
    }
   ],
   "source": [
    "s = 0\n",
    "count = 0\n",
    "print('Digite seis números inteiros!')\n",
    "for c in range(1,7):\n",
    "    n = int(input(f'insira o {c}° número: '))\n",
    "    if n%2 == 0:\n",
    "        s += n\n",
    "        count += 1\n",
    "print(f'A soma dos {count} números pares que você digitou é {s}')"
   ]
  },
  {
   "cell_type": "markdown",
   "id": "6f5ca985",
   "metadata": {},
   "source": [
    "# Exercício 51"
   ]
  },
  {
   "cell_type": "code",
   "execution_count": 1,
   "id": "98f37c34",
   "metadata": {
    "scrolled": true
   },
   "outputs": [
    {
     "name": "stdout",
     "output_type": "stream",
     "text": [
      "insira o primeiro termo de uma PA: 2\n",
      "insira a razão dessa PA: 2\n",
      "2.0 é o 1° termo da PA!\n",
      "4.0 é o 2° termo da PA!\n",
      "6.0 é o 3° termo da PA!\n",
      "8.0 é o 4° termo da PA!\n",
      "10.0 é o 5° termo da PA!\n",
      "12.0 é o 6° termo da PA!\n",
      "14.0 é o 7° termo da PA!\n",
      "16.0 é o 8° termo da PA!\n",
      "18.0 é o 9° termo da PA!\n",
      "20.0 é o 10° termo da PA!\n"
     ]
    }
   ],
   "source": [
    "a = float(input('insira o primeiro termo de uma PA: '))\n",
    "r = float(input('insira a razão dessa PA: '))\n",
    "for n in range(1,11):\n",
    "    print(f'{a + ((n-1)*r)} é o {n}° termo da PA!')"
   ]
  },
  {
   "cell_type": "markdown",
   "id": "cd8714f6",
   "metadata": {},
   "source": [
    "# Exercício 52"
   ]
  },
  {
   "cell_type": "code",
   "execution_count": 11,
   "id": "0a28bf6d",
   "metadata": {},
   "outputs": [
    {
     "name": "stdout",
     "output_type": "stream",
     "text": [
      "Digite um número:222\n",
      "Este número não é primo, pois foi divisivel 8 vezes\n"
     ]
    }
   ],
   "source": [
    "count = 0\n",
    "n = int(input('Digite um número:' ))\n",
    "for c in range(1,n+1):\n",
    "    if n%c == 0:\n",
    "        count += 1\n",
    "if count == 2:\n",
    "    print('Este número é primo!')\n",
    "else: \n",
    "    print(f'Este número não é primo, pois foi divisivel {count} vezes')\n"
   ]
  },
  {
   "cell_type": "markdown",
   "id": "c38ef5bc",
   "metadata": {},
   "source": [
    "# Exercíco 53"
   ]
  },
  {
   "cell_type": "code",
   "execution_count": 18,
   "id": "a0dacea4",
   "metadata": {},
   "outputs": [
    {
     "name": "stdout",
     "output_type": "stream",
     "text": [
      "Digite uma frase: arara\n",
      "A frase não é um palíndromo!\n"
     ]
    }
   ],
   "source": [
    "frase = input('Digite uma frase: ').strip().split()\n",
    "junta = ''.join(frase)\n",
    "inv = d[::-1]\n",
    "if inv == junta:\n",
    "    print('A frase é um palíndromo!')\n",
    "else:\n",
    "    print('A frase não é um palíndromo!')"
   ]
  },
  {
   "cell_type": "markdown",
   "id": "56cf74b0",
   "metadata": {},
   "source": [
    "# Exercício 54"
   ]
  },
  {
   "cell_type": "code",
   "execution_count": 28,
   "id": "87c20442",
   "metadata": {},
   "outputs": [
    {
     "name": "stdout",
     "output_type": "stream",
     "text": [
      "Informe o ano em que a 1° nasceu: 2001\n",
      "Informe o ano em que a 2° nasceu: 2000\n",
      "Informe o ano em que a 3° nasceu: 2000\n",
      "Informe o ano em que a 4° nasceu: 2000\n",
      "Informe o ano em que a 5° nasceu: 2010\n",
      "Informe o ano em que a 6° nasceu: 2010\n",
      "Informe o ano em que a 7° nasceu: 2011\n",
      "3 Dessas pessoas ainda não atingiram a maioridade e 4 já atingiram!\n"
     ]
    }
   ],
   "source": [
    "from datetime import date\n",
    "year = date.today().year\n",
    "count = 0\n",
    "for c in range(1,8):\n",
    "    nas = int(input(f'Informe o ano em que a {c}° nasceu: '))\n",
    "    idade = (year-nas)\n",
    "    if idade >= 21:\n",
    "        count += 1\n",
    "print(f'{c-count} Dessas pessoas ainda não atingiram a maioridade e {count} já atingiram!')\n",
    "    "
   ]
  },
  {
   "cell_type": "markdown",
   "id": "d5c4c1c0",
   "metadata": {},
   "source": [
    "# Exercício 55 "
   ]
  },
  {
   "cell_type": "code",
   "execution_count": 35,
   "id": "c1c58b2b",
   "metadata": {},
   "outputs": [
    {
     "name": "stdout",
     "output_type": "stream",
     "text": [
      "Informe o peso da 1° pessoa: 30\n",
      "Informe o peso da 2° pessoa: 40\n",
      "Informe o peso da 3° pessoa: 20\n",
      "Informe o peso da 4° pessoa: 80\n",
      "Informe o peso da 5° pessoa: 90\n",
      "O maior peso foi 90.0Kg e o menor peso foi 20.0!\n"
     ]
    }
   ],
   "source": [
    "maior = 0\n",
    "menor = 0\n",
    "for c in range(1,6):\n",
    "    peso = float(input(f'Informe o peso da {c}° pessoa: '))\n",
    "    if c == 1:\n",
    "        maior = peso\n",
    "        menor = peso\n",
    "    if peso > maior:\n",
    "        maior = peso\n",
    "    elif menor > peso:\n",
    "         menor = peso\n",
    "print(f'O maior peso foi {maior}Kg e o menor peso foi {menor}!')"
   ]
  },
  {
   "cell_type": "markdown",
   "id": "db05d13b",
   "metadata": {},
   "source": [
    "# Exercício 56"
   ]
  },
  {
   "cell_type": "code",
   "execution_count": 34,
   "id": "e4387c5b",
   "metadata": {},
   "outputs": [
    {
     "name": "stdout",
     "output_type": "stream",
     "text": [
      "Nome: gui \n",
      "Idade: 22\n",
      "Sexo (M/F): m\n",
      "Nome: gabi\n",
      "Idade: 19\n",
      "Sexo (M/F): f\n",
      "Nome: caio fdp\n",
      "Idade: 21\n",
      "Sexo (M/F): m\n",
      "Nome: ana\n",
      "Idade: 18\n",
      "Sexo (M/F): f\n",
      "A média de idade das pessoas é de 20.0 anos!\n",
      "gui é o homem mais velho!\n",
      "2 mulheres tem menos de 20 anos!\n"
     ]
    }
   ],
   "source": [
    "#Exercício Python 56: Desenvolva um programa que leia o nome, idade e sexo de 4 pessoas. No final \n",
    "# do programa, mostre:a média de idade do grupo, qual é o nome do homem mais velho e quantas mulheres têm \n",
    "# menos de 20 anos.\n",
    "soma = 0\n",
    "velho = 0\n",
    "count = 0\n",
    "countm = 0\n",
    "countf = 0\n",
    "for c in range(1,5):\n",
    "    nome = input('Nome: ').strip()\n",
    "    idade = int(input('Idade: '))\n",
    "    sexo = input('Sexo (M/F): ').strip().lower()\n",
    "    if sexo == 'm' and idade > velho:\n",
    "        velho = idade\n",
    "        nome1 = nome\n",
    "    if sexo == 'f' and idade < 20:\n",
    "        count += 1\n",
    "    if sexo == 'm':\n",
    "        countm += 1\n",
    "    else:\n",
    "        countf += 1\n",
    "    soma += idade\n",
    "print(f'A média de idade das pessoas é de {soma/c} anos!')\n",
    "if countm >= 1:\n",
    "    print(f'{nome1} é o homem mais velho!')\n",
    "if countf >= 1:\n",
    "    print(f'{count} mulheres tem menos de 20 anos!')\n",
    "    \n",
    "    \n",
    "    "
   ]
  }
 ],
 "metadata": {
  "kernelspec": {
   "display_name": "Python 3 (ipykernel)",
   "language": "python",
   "name": "python3"
  },
  "language_info": {
   "codemirror_mode": {
    "name": "ipython",
    "version": 3
   },
   "file_extension": ".py",
   "mimetype": "text/x-python",
   "name": "python",
   "nbconvert_exporter": "python",
   "pygments_lexer": "ipython3",
   "version": "3.9.12"
  }
 },
 "nbformat": 4,
 "nbformat_minor": 5
}
