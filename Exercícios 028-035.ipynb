{
 "cells": [
  {
   "cell_type": "markdown",
   "id": "9827222c",
   "metadata": {},
   "source": [
    "# Exercício 28"
   ]
  },
  {
   "cell_type": "code",
   "execution_count": 10,
   "id": "3ac316e9",
   "metadata": {},
   "outputs": [
    {
     "name": "stdout",
     "output_type": "stream",
     "text": [
      "Tente acertar o número sorteado de 0 a 5: 5\n",
      "Você perdeu\n",
      "o número sorteado foi 2\n"
     ]
    }
   ],
   "source": [
    "from random import randrange\n",
    "n=randrange(0,5)\n",
    "t=int(input('Tente acertar o número sorteado de 0 a 5: '))\n",
    "print('Você ganhou'if t == n else 'Você perdeu')\n",
    "print(f'o número sorteado foi {n}')"
   ]
  },
  {
   "cell_type": "markdown",
   "id": "96251807",
   "metadata": {},
   "source": [
    "# Exercício 29"
   ]
  },
  {
   "cell_type": "code",
   "execution_count": 34,
   "id": "68aca5e5",
   "metadata": {},
   "outputs": [
    {
     "name": "stdout",
     "output_type": "stream",
     "text": [
      "Informe a velociadade do veiculo: 87\n",
      "Você foi multado em 49.00 reais, por ultrapassar o limite de velocidade\n",
      "Tenha um Bom dia, dirija com cuidado!\n"
     ]
    }
   ],
   "source": [
    "v=int(input('Informe a velociadade do veiculo: '))\n",
    "if v>80:\n",
    "    print(f'Você foi multado em {(v-80)*7:.2f} reais, por ultrapassar o limite de velocidade')\n",
    "print('Tenha um Bom dia, dirija com cuidado!')"
   ]
  },
  {
   "cell_type": "markdown",
   "id": "c73939c6",
   "metadata": {},
   "source": [
    "# Exercício 30"
   ]
  },
  {
   "cell_type": "code",
   "execution_count": 24,
   "id": "d36c6ff7",
   "metadata": {},
   "outputs": [
    {
     "name": "stdout",
     "output_type": "stream",
     "text": [
      "Digite um número inteiro: 22\n",
      "O número é par\n"
     ]
    }
   ],
   "source": [
    "n=int(input('Digite um número inteiro: '))\n",
    "if n%2==0:\n",
    "    print('O número é par')\n",
    "else:\n",
    "    print('O número é impar')"
   ]
  },
  {
   "cell_type": "markdown",
   "id": "f5a3b8b6",
   "metadata": {},
   "source": [
    "# Exercício 31\n"
   ]
  },
  {
   "cell_type": "code",
   "execution_count": 26,
   "id": "36260d2f",
   "metadata": {},
   "outputs": [
    {
     "name": "stdout",
     "output_type": "stream",
     "text": [
      "Informe a ditância da sua viagem em Km: 201\n",
      "A sua viagem vai custar 100.5 reais\n"
     ]
    }
   ],
   "source": [
    "d=int(input('Informe a ditância da sua viagem em Km: '))\n",
    "if d<=200:\n",
    "    print(f'A sua viagem vai custar {d*0.45} reais')\n",
    "else:\n",
    "    print(f'A sua viagem vai custar {d*0.5} reais')"
   ]
  },
  {
   "cell_type": "markdown",
   "id": "f99cb099",
   "metadata": {},
   "source": [
    "# Exercício 32"
   ]
  },
  {
   "cell_type": "code",
   "execution_count": 31,
   "id": "91eb3854",
   "metadata": {},
   "outputs": [
    {
     "name": "stdout",
     "output_type": "stream",
     "text": [
      "Informe o ano:2020\n",
      "O ano 2020 é bissexto\n"
     ]
    }
   ],
   "source": [
    "a=int(input('Informe o ano:'))\n",
    "print(f'O ano {a} é bissexto' if a%4==0 else f'O ano {a} não é bissexto')"
   ]
  },
  {
   "cell_type": "markdown",
   "id": "a5ce12aa",
   "metadata": {},
   "source": [
    "# Exercício 33"
   ]
  },
  {
   "cell_type": "code",
   "execution_count": 40,
   "id": "8b9a585e",
   "metadata": {},
   "outputs": [
    {
     "name": "stdout",
     "output_type": "stream",
     "text": [
      "digite três números\n",
      "Primeiro número: 6\n",
      "Segundo número: 9\n",
      "Terceiro número: 2\n",
      "O maior número é 9 e o menor é número é 2\n"
     ]
    }
   ],
   "source": [
    "print('digite três números')\n",
    "a= int(input('Primeiro número: '))\n",
    "b= int(input('Segundo número: '))\n",
    "c= int(input('Terceiro número: '))\n",
    "if a<b and a<c:\n",
    "    menor=a\n",
    "if b<a and b<c:\n",
    "    menor=b\n",
    "if c<a and c<b:\n",
    "    menor=c\n",
    "if a>b and a>c:\n",
    "    maior=a\n",
    "if b>a and b>c:\n",
    "    maior=b\n",
    "if c>a and c>b:\n",
    "    maior=c\n",
    "print(f'O maior número é {maior} e o menor é número é {menor}')\n"
   ]
  },
  {
   "cell_type": "markdown",
   "id": "5188ad86",
   "metadata": {},
   "source": [
    "# Exercício 34"
   ]
  },
  {
   "cell_type": "code",
   "execution_count": 5,
   "id": "b34abbf5",
   "metadata": {},
   "outputs": [
    {
     "name": "stdout",
     "output_type": "stream",
     "text": [
      "Qual o salário do funcionário? 900.50\n",
      "O seu novo salário, com o aumento será de 1035.57 reais \n"
     ]
    }
   ],
   "source": [
    "s=float(input('Qual o salário do funcionário? '))\n",
    "if s>1250:\n",
    "    print(f'O seu novo salário, com o aumento será de {s*1.10:.2f} reais ')\n",
    "else:\n",
    "    print(f'O seu novo salário, com o aumento será de {s*1.15:.2f} reais ')\n",
    "    "
   ]
  },
  {
   "cell_type": "markdown",
   "id": "2bcd6c77",
   "metadata": {},
   "source": [
    "# Exercíco 35"
   ]
  },
  {
   "cell_type": "code",
   "execution_count": 10,
   "id": "2bbc4c6c",
   "metadata": {},
   "outputs": [
    {
     "name": "stdout",
     "output_type": "stream",
     "text": [
      "informe o tamanho da primeira reta: 2\n",
      "informe o tamanho da segunda reta: 10\n",
      "informe o tamanho da terceira reta: 19\n",
      "As retas não podem formar um triângulo\n"
     ]
    }
   ],
   "source": [
    "a=float(input('informe o tamanho da primeira reta: '))\n",
    "b=float(input('informe o tamanho da segunda reta: '))\n",
    "c=float(input('informe o tamanho da terceira reta: '))\n",
    "if abs(b-c)<a<b+c and abs(a-c)<b<a+c and abs(b-a)<c<b+a:\n",
    "    print('As retas podem formar um triângulo')\n",
    "else:\n",
    "    print('As retas não podem formar um triângulo')"
   ]
  }
 ],
 "metadata": {
  "kernelspec": {
   "display_name": "Python 3 (ipykernel)",
   "language": "python",
   "name": "python3"
  },
  "language_info": {
   "codemirror_mode": {
    "name": "ipython",
    "version": 3
   },
   "file_extension": ".py",
   "mimetype": "text/x-python",
   "name": "python",
   "nbconvert_exporter": "python",
   "pygments_lexer": "ipython3",
   "version": "3.9.12"
  }
 },
 "nbformat": 4,
 "nbformat_minor": 5
}
