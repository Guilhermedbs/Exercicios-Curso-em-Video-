{
 "cells": [
  {
   "cell_type": "code",
   "execution_count": 1,
   "id": "bfcfa17e",
   "metadata": {},
   "outputs": [
    {
     "name": "stdout",
     "output_type": "stream",
     "text": [
      "pygame 2.1.2 (SDL 2.0.18, Python 3.9.12)\n",
      "Hello from the pygame community. https://www.pygame.org/contribute.html\n"
     ]
    }
   ],
   "source": [
    "#imports\n",
    "import math, random, pygame "
   ]
  },
  {
   "cell_type": "code",
   "execution_count": 2,
   "id": "a182698d",
   "metadata": {},
   "outputs": [
    {
     "name": "stdout",
     "output_type": "stream",
     "text": [
      "Digite um número: 25\n",
      "a raiz de 25 é 5.0\n"
     ]
    }
   ],
   "source": [
    "n=int(input('Digite um número: '))\n",
    "print(f'a raiz de {n} é {math.sqrt(n)}')"
   ]
  },
  {
   "cell_type": "markdown",
   "id": "68ed7f5d",
   "metadata": {},
   "source": [
    "# Exercicio 016"
   ]
  },
  {
   "cell_type": "code",
   "execution_count": 3,
   "id": "a76bd81d",
   "metadata": {},
   "outputs": [
    {
     "name": "stdout",
     "output_type": "stream",
     "text": [
      "Digite um numero real: 2.444\n",
      "A parte inteira do numero 2.444 é 2\n"
     ]
    }
   ],
   "source": [
    "n=float(input('Digite um numero real: '))\n",
    "print(f'A parte inteira do numero {n} é {math.floor(n)}')\n"
   ]
  },
  {
   "cell_type": "markdown",
   "id": "3c4c1223",
   "metadata": {},
   "source": [
    "# Exercicio 017"
   ]
  },
  {
   "cell_type": "code",
   "execution_count": 5,
   "id": "3c1777ef",
   "metadata": {},
   "outputs": [
    {
     "name": "stdout",
     "output_type": "stream",
     "text": [
      "Informe o valor do cateto oposto: 3\n",
      "Informe o valor do cateto adjascente 4\n",
      "A hipotenusa vale 5.0\n"
     ]
    }
   ],
   "source": [
    "co=float(input('Informe o valor do cateto oposto: '))\n",
    "ca=float(input('Informe o valor do cateto adjascente '))\n",
    "h=math.sqrt(co**2+ca**2)\n",
    "print(f'A hipotenusa vale {h}')"
   ]
  },
  {
   "cell_type": "markdown",
   "id": "d3bf16e1",
   "metadata": {},
   "source": [
    "# Exercicio 018"
   ]
  },
  {
   "cell_type": "code",
   "execution_count": 26,
   "id": "83a2add3",
   "metadata": {},
   "outputs": [
    {
     "name": "stdout",
     "output_type": "stream",
     "text": [
      "Insira um ângulo: 180\n",
      "o seno desse âgulo é: 0.00 \n",
      "o cosseno desse âgulo é: -1.00 \n",
      "a tangente desse âgulo é: -0.00 \n"
     ]
    }
   ],
   "source": [
    "a=float(input('Insira um ângulo: '))\n",
    "print(f'o seno desse âgulo é: {math.sin(math.radians(a)):.2f} ')\n",
    "print(f'o cosseno desse âgulo é: {math.cos(math.radians(a)):.2f} ')\n",
    "print(f'a tangente desse âgulo é: {math.tan(math.radians(a)):.2f} ')"
   ]
  },
  {
   "cell_type": "markdown",
   "id": "78b222e2",
   "metadata": {},
   "source": [
    "# Exercicio 019 "
   ]
  },
  {
   "cell_type": "code",
   "execution_count": 8,
   "id": "3ff05cb4",
   "metadata": {},
   "outputs": [
    {
     "name": "stdout",
     "output_type": "stream",
     "text": [
      "digite o nome do aluno: f\n",
      "digite o nome do outro aluno: d\n",
      "digite o nome do outro aluno: f\n",
      "digite o nome do outro aluno: g\n",
      "o aluno sorteado foi: f\n"
     ]
    }
   ],
   "source": [
    "n1=input('digite o nome do aluno: ')\n",
    "n2=input('digite o nome do outro aluno: ')\n",
    "n3=input('digite o nome do outro aluno: ')\n",
    "n4=input('digite o nome do outro aluno: ')\n",
    "nomes=(n1,n2,n3,n4)\n",
    "print(f'o aluno sorteado foi: {random.choice(nomes)}')\n"
   ]
  },
  {
   "cell_type": "markdown",
   "id": "4d96e76a",
   "metadata": {},
   "source": [
    "# Exercicio 020"
   ]
  },
  {
   "cell_type": "code",
   "execution_count": 9,
   "id": "56181453",
   "metadata": {},
   "outputs": [
    {
     "name": "stdout",
     "output_type": "stream",
     "text": [
      "digite o nome do aluno: gui\n",
      "digite o nome do outro aluno: caio\n",
      "digite o nome do outro aluno: ana\n",
      "digite o nome do outro aluno: joel\n",
      "a ordem sorteada foi:['ana', 'caio', 'joel', 'gui']\n"
     ]
    }
   ],
   "source": [
    "n1=input('digite o nome do aluno: ')\n",
    "n2=input('digite o nome do outro aluno: ')\n",
    "n3=input('digite o nome do outro aluno: ')\n",
    "n4=input('digite o nome do outro aluno: ')\n",
    "nomes=[n1,n2,n3,n4]\n",
    "random.shuffle(nomes)\n",
    "print(f'a ordem sorteada foi:{nomes}')"
   ]
  },
  {
   "cell_type": "markdown",
   "id": "040edec2",
   "metadata": {},
   "source": [
    "# Exercicio 021"
   ]
  },
  {
   "cell_type": "code",
   "execution_count": 2,
   "id": "ab2ad965",
   "metadata": {
    "scrolled": true
   },
   "outputs": [
    {
     "data": {
      "text/plain": [
       "<Event(4352-AudioDeviceAdded {'which': 1, 'iscapture': 0})>"
      ]
     },
     "execution_count": 2,
     "metadata": {},
     "output_type": "execute_result"
    }
   ],
   "source": [
    "pygame.init()\n",
    "pygame.mixer.music.load('believer.mp3')\n",
    "pygame.mixer.music.play()\n",
    "pygame.event.wait()"
   ]
  }
 ],
 "metadata": {
  "kernelspec": {
   "display_name": "Python 3 (ipykernel)",
   "language": "python",
   "name": "python3"
  },
  "language_info": {
   "codemirror_mode": {
    "name": "ipython",
    "version": 3
   },
   "file_extension": ".py",
   "mimetype": "text/x-python",
   "name": "python",
   "nbconvert_exporter": "python",
   "pygments_lexer": "ipython3",
   "version": "3.9.12"
  }
 },
 "nbformat": 4,
 "nbformat_minor": 5
}
