{
 "cells": [
  {
   "cell_type": "code",
   "execution_count": 1,
   "id": "b3b25737",
   "metadata": {},
   "outputs": [
    {
     "name": "stdout",
     "output_type": "stream",
     "text": [
      "Curso em Video Python  \n",
      "Curso em video python  \n",
      "Curso Em Video Python  \n",
      "12\n",
      "programa em Video Python  \n",
      "Python\n"
     ]
    }
   ],
   "source": [
    "frase='Curso em Video Python  '\n",
    "print(frase)\n",
    "print(frase.capitalize())\n",
    "print(frase.title())\n",
    "d=(frase.split())\n",
    "print(frase.find('eo'))\n",
    "print(frase.replace('Curso','programa'))\n",
    "print(d[3])"
   ]
  },
  {
   "cell_type": "markdown",
   "id": "cdd54096",
   "metadata": {},
   "source": [
    "# Exercício 22"
   ]
  },
  {
   "cell_type": "code",
   "execution_count": 19,
   "id": "a64ae25a",
   "metadata": {},
   "outputs": [
    {
     "name": "stdout",
     "output_type": "stream",
     "text": [
      "digite seu nome: Guilherme De Bernardi\n",
      "Seu nome em letras maiúsculas: GUILHERME DE BERNARDI\n",
      "Seu nome em letras minúsculas: guilherme de bernardi\n",
      "A quantidade de letras que tem no seu nome: 19\n",
      "Seu primeiro nome é Guilherme e tem 9 letras\n"
     ]
    }
   ],
   "source": [
    "nome=input('digite seu nome: ').strip()\n",
    "print(f'Seu nome em letras maiúsculas: {nome.upper()}')\n",
    "print(f'Seu nome em letras minúsculas: {nome.lower()}')\n",
    "print(f\"A quantidade de letras que tem no seu nome: {( len(nome) - nome.count(' '))}\")\n",
    "d=nome.split()\n",
    "print(f'Seu primeiro nome é {d[0]} e tem {len(d[0])} letras')\n"
   ]
  },
  {
   "cell_type": "markdown",
   "id": "55f58b1c",
   "metadata": {},
   "source": [
    "# Exercício 23"
   ]
  },
  {
   "cell_type": "code",
   "execution_count": 32,
   "id": "8315d370",
   "metadata": {},
   "outputs": [
    {
     "name": "stdout",
     "output_type": "stream",
     "text": [
      "Insira um número entre 0 e 9999: 9876\n",
      "unidades: 6\n",
      "dezenas:  7\n",
      "centenas: 8\n",
      "milhares: 9\n"
     ]
    }
   ],
   "source": [
    "n=int(input('Insira um número entre 0 e 9999: '))\n",
    "\n",
    "print(f'unidades: {int(n/1%10)}')\n",
    "print(f'dezenas:  {int(n/10 % 10)}')\n",
    "print(f'centenas: {int(n/100 % 10)}')\n",
    "print(f'milhares: {int(n/1000)}')\n"
   ]
  },
  {
   "cell_type": "markdown",
   "id": "71fc9b32",
   "metadata": {},
   "source": [
    "# Exercício 24"
   ]
  },
  {
   "cell_type": "code",
   "execution_count": 4,
   "id": "0ebea544",
   "metadata": {},
   "outputs": [
    {
     "name": "stdout",
     "output_type": "stream",
     "text": [
      "insira o nome de uma cidade:    SaNto\n",
      "True\n"
     ]
    }
   ],
   "source": [
    "f = str(input('insira o nome de uma cidade: ')).strip().lower()\n",
    "print(f[:5]=='santo')\n"
   ]
  },
  {
   "cell_type": "markdown",
   "id": "cf732a55",
   "metadata": {},
   "source": [
    "# Exercício 25"
   ]
  },
  {
   "cell_type": "code",
   "execution_count": 8,
   "id": "232aa816",
   "metadata": {
    "scrolled": true
   },
   "outputs": [
    {
     "name": "stdout",
     "output_type": "stream",
     "text": [
      "Digite seu nome : arthur     SilvA\n",
      "Seu nome contém silva: True\n"
     ]
    }
   ],
   "source": [
    "nome=input('Digite seu nome : ').strip().lower()\n",
    "print (f\"Seu nome contém silva: {'silva' in nome}\")"
   ]
  },
  {
   "cell_type": "markdown",
   "id": "d28e8a78",
   "metadata": {},
   "source": [
    "# Exercício 26\n"
   ]
  },
  {
   "cell_type": "code",
   "execution_count": 11,
   "id": "423cc014",
   "metadata": {},
   "outputs": [
    {
     "name": "stdout",
     "output_type": "stream",
     "text": [
      "Digite uma frase: arara Azul\n",
      "Quantas vezes a letra A aperece: 4\n",
      "Em que posição a letra A aperece pela primeira vez: 1\n",
      "Quando a letra A aparece pela última vez: 7\n"
     ]
    }
   ],
   "source": [
    "frase=input('Digite uma frase: ').strip().lower()\n",
    "print(f\"Quantas vezes a letra A aperece: {frase.count('a')}\")\n",
    "print(f\"Em que posição a letra A aperece pela primeira vez: {frase.find('a')+1}\")\n",
    "print(f\"Quando a letra A aparece pela última vez: {frase.rfind('a')+1}\")"
   ]
  },
  {
   "cell_type": "markdown",
   "id": "d9a0991d",
   "metadata": {},
   "source": [
    "# Exercício 27\n"
   ]
  },
  {
   "cell_type": "code",
   "execution_count": 16,
   "id": "053ee960",
   "metadata": {},
   "outputs": [
    {
     "name": "stdout",
     "output_type": "stream",
     "text": [
      "Digite seu nome: Ana Karolina de Matos muniz\n",
      "Seu último nome é:muniz \n"
     ]
    }
   ],
   "source": [
    "nome=input('Digite seu nome: ').strip()\n",
    "s=nome.split()\n",
    "q=nome.count(' ')\n",
    "print(f'Seu último nome é:{s[q]} ')\n"
   ]
  }
 ],
 "metadata": {
  "kernelspec": {
   "display_name": "Python 3 (ipykernel)",
   "language": "python",
   "name": "python3"
  },
  "language_info": {
   "codemirror_mode": {
    "name": "ipython",
    "version": 3
   },
   "file_extension": ".py",
   "mimetype": "text/x-python",
   "name": "python",
   "nbconvert_exporter": "python",
   "pygments_lexer": "ipython3",
   "version": "3.9.12"
  }
 },
 "nbformat": 4,
 "nbformat_minor": 5
}
