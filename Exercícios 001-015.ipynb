{
 "cells": [
  {
   "cell_type": "code",
   "execution_count": 38,
   "id": "ac3f68e0",
   "metadata": {},
   "outputs": [],
   "source": [
    "from math import sqrt"
   ]
  },
  {
   "cell_type": "markdown",
   "id": "91fc9198",
   "metadata": {},
   "source": [
    "# Exercício 001"
   ]
  },
  {
   "cell_type": "code",
   "execution_count": 1,
   "id": "9b17f2ee",
   "metadata": {},
   "outputs": [
    {
     "name": "stdout",
     "output_type": "stream",
     "text": [
      "Olá mundo\n"
     ]
    }
   ],
   "source": [
    "msg = 'Olá mundo!'\n",
    "print(msg)"
   ]
  },
  {
   "cell_type": "markdown",
   "id": "5153a6cd",
   "metadata": {},
   "source": [
    "# Exercício 002\n"
   ]
  },
  {
   "cell_type": "code",
   "execution_count": null,
   "id": "f2417b6a",
   "metadata": {},
   "outputs": [],
   "source": [
    "n=str(input('qual o seu nome?'))\n",
    "print(f'prazer em te conhecer {n:20}!')"
   ]
  },
  {
   "cell_type": "markdown",
   "id": "dd4352be",
   "metadata": {},
   "source": [
    "# Exercício 004\n"
   ]
  },
  {
   "cell_type": "code",
   "execution_count": 31,
   "id": "bace88ca",
   "metadata": {},
   "outputs": [
    {
     "name": "stdout",
     "output_type": "stream",
     "text": [
      "digite um numero 3\n",
      "digite outro valor 3\n",
      "A soma é 6, a multiplicação é 9, a dvisão é 1.0,a divisão inteira é 1 e a potência é 27\n"
     ]
    }
   ],
   "source": [
    "n1=int(input('digite um numero '))\n",
    "n2=int(input('digite outro valor '))\n",
    "print(f'A soma é {n1+n2}, a multiplicação é {n1*n2}, a dvisão é {n1/n2},', end='')\n",
    "print(f' a divisão inteira é {n1//n2} e a potência é {n1**n2}')"
   ]
  },
  {
   "cell_type": "markdown",
   "id": "abf6caa5",
   "metadata": {},
   "source": [
    "# Exercicio 005\n"
   ]
  },
  {
   "cell_type": "code",
   "execution_count": 33,
   "id": "7192dab7",
   "metadata": {},
   "outputs": [
    {
     "name": "stdout",
     "output_type": "stream",
     "text": [
      "Digite um numero: 5\n",
      "o sucessor deste numero é 6 e seu antecessor é 4\n"
     ]
    }
   ],
   "source": [
    "n=int(input('Digite um numero: '))\n",
    "print(f'o sucessor deste numero é {n+1} e seu antecessor é {n-1}')"
   ]
  },
  {
   "cell_type": "markdown",
   "id": "d28dbc84",
   "metadata": {},
   "source": [
    "# Exercicio 006 "
   ]
  },
  {
   "cell_type": "code",
   "execution_count": 39,
   "id": "009c16b6",
   "metadata": {},
   "outputs": [
    {
     "name": "stdout",
     "output_type": "stream",
     "text": [
      "Digite um numero: 25\n",
      "Seu dobro é 50, o seu tripo é 75 e a sua raiz quadrada é 5.0\n"
     ]
    }
   ],
   "source": [
    "n=int(input('Digite um numero: '))\n",
    "print(f'Seu dobro é {2*n}, o seu tripo é {3*n} e a sua raiz quadrada é {sqrt(n)}')"
   ]
  },
  {
   "cell_type": "markdown",
   "id": "96fbe60b",
   "metadata": {},
   "source": [
    "# Exercicio 007"
   ]
  },
  {
   "cell_type": "code",
   "execution_count": 42,
   "id": "b96353e1",
   "metadata": {},
   "outputs": [
    {
     "name": "stdout",
     "output_type": "stream",
     "text": [
      "Digite a primeira nota: 3.3\n",
      "Digite a segunda nota: 4.5\n",
      "a media do aluno é 3.9\n"
     ]
    }
   ],
   "source": [
    "n1=float(input('Digite a primeira nota: '))\n",
    "n2=float(input('Digite a segunda nota: '))\n",
    "m=(n1+n2)/2\n",
    "print(f'a media do aluno é {m}')"
   ]
  },
  {
   "cell_type": "markdown",
   "id": "0360fb3c",
   "metadata": {},
   "source": [
    "# Exercicio 008"
   ]
  },
  {
   "cell_type": "code",
   "execution_count": 44,
   "id": "355ca3e1",
   "metadata": {},
   "outputs": [
    {
     "name": "stdout",
     "output_type": "stream",
     "text": [
      "Quantos metros?5\n",
      "São 500.0 centimetros ou 5000.0 milimetros \n"
     ]
    }
   ],
   "source": [
    "m=float(input('Quantos metros?'))\n",
    "c=m*100\n",
    "ml=m*1000\n",
    "print(f'São {c} centimetros ou {ml} milimetros ')"
   ]
  },
  {
   "cell_type": "markdown",
   "id": "a3df3311",
   "metadata": {},
   "source": [
    "# Exercicio 009"
   ]
  },
  {
   "cell_type": "code",
   "execution_count": 30,
   "id": "7703b4b2",
   "metadata": {},
   "outputs": [
    {
     "name": "stdout",
     "output_type": "stream",
     "text": [
      "digite um numero: 4\n",
      "tabuada do numero 4: \n",
      " 4 x 1=4 \n",
      " 4 x 2=8 \n",
      " 4 x 3=12 \n",
      " 4 x 4=16 \n",
      " 4 x 5=20 \n",
      " 4 x 6=24 \n",
      " 4 x 7=28 \n",
      " 4 x 8=32\n",
      " 4 x 9=36 \n",
      " 4 x 10=40\n"
     ]
    }
   ],
   "source": [
    "n=int(input('digite um numero: '))\n",
    "print(f'tabuada do numero {n}: \\n {n} x 1={n*1} \\n {n} x 2={n*2} \\n {n} x 3={n*3} ')\n",
    "print (f' {n} x 4={n*4} \\n {n} x 5={n*5} \\n {n} x 6={n*6} \\n {n} x 7={n*7} \\n {n} x 8={n*8}')\n",
    "print (f' {n} x 9={n*9} \\n {n} x 10={n*10}')"
   ]
  },
  {
   "cell_type": "markdown",
   "id": "7d5153cb",
   "metadata": {},
   "source": [
    "# Exercicio 010 "
   ]
  },
  {
   "cell_type": "code",
   "execution_count": 34,
   "id": "19494d80",
   "metadata": {},
   "outputs": [
    {
     "name": "stdout",
     "output_type": "stream",
     "text": [
      "Quantos reais há na carteira dessa pessoa?222\n",
      "Essa pessoa pode comprar 67.89 dolares\n"
     ]
    }
   ],
   "source": [
    "r=float(input('Quantos reais há na carteira dessa pessoa?'))\n",
    "d=r/3.27\n",
    "print(f'Essa pessoa pode comprar {d:.2f} dolares')"
   ]
  },
  {
   "cell_type": "markdown",
   "id": "f37fc33c",
   "metadata": {},
   "source": [
    "# Exercicio 011"
   ]
  },
  {
   "cell_type": "code",
   "execution_count": 12,
   "id": "fce87474",
   "metadata": {},
   "outputs": [
    {
     "name": "stdout",
     "output_type": "stream",
     "text": [
      "Largura da parede: 4\n",
      "altura da parede: 5\n",
      "A area da parede é igual a 20.0 m² e serão necessarios 10.0 litros de tinta para pintar a parede.\n"
     ]
    }
   ],
   "source": [
    "l=float(input('Largura da parede: '))\n",
    "h=float(input('altura da parede: '))\n",
    "a=h*l\n",
    "t=a/2\n",
    "print(f'A area da parede é igual a {a} m² e serão necessarios {t} litros de tinta ', end= '')\n",
    "print('para pintar a parede.')"
   ]
  },
  {
   "cell_type": "markdown",
   "id": "d70e0294",
   "metadata": {},
   "source": [
    "# Exercicio 012"
   ]
  },
  {
   "cell_type": "code",
   "execution_count": 28,
   "id": "9379b55d",
   "metadata": {},
   "outputs": [
    {
     "name": "stdout",
     "output_type": "stream",
     "text": [
      "Informe o preço original do produto: 92\n",
      "O preço do produto co 5% de desconto será de 87.40 Reais\n"
     ]
    }
   ],
   "source": [
    "p=float(input('Informe o preço original do produto: '))\n",
    "p2=0.95*p\n",
    "print(f'O preço do produto co 5% de desconto será de {p2:.5f} Reais')"
   ]
  },
  {
   "cell_type": "markdown",
   "id": "f2fe0713",
   "metadata": {},
   "source": [
    "# Exercicio 013"
   ]
  },
  {
   "cell_type": "code",
   "execution_count": 32,
   "id": "e183843e",
   "metadata": {},
   "outputs": [
    {
     "name": "stdout",
     "output_type": "stream",
     "text": [
      "Informe o salário original: 12\n",
      "O salário com 15% de aumento será de 13.799999999999999 Reais\n"
     ]
    }
   ],
   "source": [
    "s=float(input('Informe o salário original: '))\n",
    "print(f'O salário com 15% de aumento será de {s*1.15;.2f} Reais')"
   ]
  },
  {
   "cell_type": "markdown",
   "id": "e1f8db7d",
   "metadata": {},
   "source": [
    "# Exercicio 014"
   ]
  },
  {
   "cell_type": "code",
   "execution_count": 40,
   "id": "4f97a0cc",
   "metadata": {},
   "outputs": [
    {
     "name": "stdout",
     "output_type": "stream",
     "text": [
      "Informe a temperatura em graus celcius: 100\n",
      "A temperatura é 212.00000° em graus fahrenheit\n"
     ]
    }
   ],
   "source": [
    "c=float(input('Informe a temperatura em graus celcius: '))\n",
    "f=c*1.8+32\n",
    "print(f'A temperatura é {f}° em graus fahrenheit')"
   ]
  },
  {
   "cell_type": "markdown",
   "id": "19e4438f",
   "metadata": {},
   "source": [
    "# Exercicio 015"
   ]
  },
  {
   "cell_type": "code",
   "execution_count": 46,
   "id": "2dc40e3d",
   "metadata": {},
   "outputs": [
    {
     "name": "stdout",
     "output_type": "stream",
     "text": [
      "Informe a quantidade de kilometros rodados pelo carro alugado: 100\n",
      "Informe a quantidade de dias pelos quais ele foi alugado: 1\n",
      "O preço total a pagar será de 75.00 reais\n"
     ]
    }
   ],
   "source": [
    "k=float(input('Informe a quantidade de kilometros rodados pelo carro alugado: '))\n",
    "d=int(input('Informe a quantidade de dias pelos quais ele foi alugado: '))\n",
    "p=60*d+0.15*k\n",
    "print(f'O preço total a pagar será de {p:.2f} reais')"
   ]
  }
 ],
 "metadata": {
  "kernelspec": {
   "display_name": "Python 3 (ipykernel)",
   "language": "python",
   "name": "python3"
  },
  "language_info": {
   "codemirror_mode": {
    "name": "ipython",
    "version": 3
   },
   "file_extension": ".py",
   "mimetype": "text/x-python",
   "name": "python",
   "nbconvert_exporter": "python",
   "pygments_lexer": "ipython3",
   "version": "3.9.12"
  }
 },
 "nbformat": 4,
 "nbformat_minor": 5
}
