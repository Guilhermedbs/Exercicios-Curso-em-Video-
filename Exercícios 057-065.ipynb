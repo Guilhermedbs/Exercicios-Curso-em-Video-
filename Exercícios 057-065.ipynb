{
 "cells": [
  {
   "cell_type": "markdown",
   "id": "d728d623",
   "metadata": {},
   "source": [
    "# Exercício 57"
   ]
  },
  {
   "cell_type": "code",
   "execution_count": 17,
   "id": "bde5094e",
   "metadata": {},
   "outputs": [
    {
     "name": "stdout",
     "output_type": "stream",
     "text": [
      "Informe seu sexo (M/F): masculino\n",
      "Você é do sexo Masculino!\n"
     ]
    }
   ],
   "source": [
    "sexo = str(input('Informe seu sexo (M/F): ')).upper().strip()[0]\n",
    "while sexo != 'M' and sexo != 'F':\n",
    "    sexo = str(input('Dados invalidos, Informe seu sexo (M/F) novamente: ')).upper().strip()\n",
    "if sexo == 'M':\n",
    "    print('Você é do sexo Masculino!')\n",
    "else:\n",
    "    print('Você é do sexo Feminio!')"
   ]
  },
  {
   "cell_type": "markdown",
   "id": "a7e6e325",
   "metadata": {},
   "source": [
    "# Exercício 58"
   ]
  },
  {
   "cell_type": "code",
   "execution_count": 63,
   "id": "5bd6f99b",
   "metadata": {},
   "outputs": [
    {
     "name": "stdout",
     "output_type": "stream",
     "text": [
      "Tente acertar o número sorteado de 0 a 10: 2\n",
      "Você errou, tente novamente: 3\n",
      "Você errou, tente novamente: 1\n",
      "Você errou, tente novamente: 0\n",
      "Você errou, tente novamente: 4\n",
      "Você errou, tente novamente: 5\n",
      "Você errou, tente novamente: 6\n",
      "Você errou, tente novamente: 8\n",
      "Você errou, tente novamente: 9\n",
      "Você acertou em 9 tentativas, o número sorteado foi 9, \n"
     ]
    }
   ],
   "source": [
    "from random import randint\n",
    "n = randint(0,10)\n",
    "tentativas = 1\n",
    "t = int(input('Tente acertar o número sorteado de 0 a 10: '))\n",
    "while n != t:\n",
    "    t = int(input('Você errou, tente novamente: '))\n",
    "    tentativas += 1\n",
    "print(f'Você acertou em {tentativas} tentativas, o número sorteado foi {n}, ')\n",
    "     "
   ]
  },
  {
   "cell_type": "markdown",
   "id": "96188052",
   "metadata": {},
   "source": [
    "# Exercício 59"
   ]
  },
  {
   "cell_type": "code",
   "execution_count": 24,
   "id": "48b5a131",
   "metadata": {},
   "outputs": [
    {
     "name": "stdout",
     "output_type": "stream",
     "text": [
      "Digite o primeiro valor: 5\n",
      "Digite o segundo valor: 4\n",
      "Opções:    \n",
      "    [1] somar \n",
      "    [2] multiplicar \n",
      "    [3] maior \n",
      "    [4] novos numeros\n",
      "    [5] encerar o programa\n",
      "Qual a sua escolha? 6\n",
      "Opção invalida, por favor tente novamente!\n",
      "Opções:    \n",
      "    [1] somar \n",
      "    [2] multiplicar \n",
      "    [3] maior \n",
      "    [4] novos numeros\n",
      "    [5] encerar o programa\n",
      "Qual a sua escolha? 1\n",
      "A soma dos valores é 9.0\n",
      "Opções:    \n",
      "    [1] somar \n",
      "    [2] multiplicar \n",
      "    [3] maior \n",
      "    [4] novos numeros\n",
      "    [5] encerar o programa\n",
      "Qual a sua escolha? 2\n",
      "O produto dos valores é 20.0\n",
      "Opções:    \n",
      "    [1] somar \n",
      "    [2] multiplicar \n",
      "    [3] maior \n",
      "    [4] novos numeros\n",
      "    [5] encerar o programa\n",
      "Qual a sua escolha? 3\n",
      "O maior número é 5.0\n",
      "Opções:    \n",
      "    [1] somar \n",
      "    [2] multiplicar \n",
      "    [3] maior \n",
      "    [4] novos numeros\n",
      "    [5] encerar o programa\n",
      "Qual a sua escolha? 5\n"
     ]
    }
   ],
   "source": [
    "c = 0\n",
    "n1 = float(input('Digite o primeiro valor: '))\n",
    "n2 = float(input('Digite o segundo valor: '))\n",
    "maior = n1\n",
    "while c != 5:\n",
    "    print('''Opções:    \n",
    "    [1] somar \n",
    "    [2] multiplicar \n",
    "    [3] maior \n",
    "    [4] novos numeros\n",
    "    [5] encerar o programa''')\n",
    "    c = int(input('Qual a sua escolha? '))\n",
    "    if c == 1:\n",
    "        print(f'A soma dos valores é {n1 + n2}')\n",
    "    elif c == 2:\n",
    "        print(f'O produto dos valores é {n1*n2}')\n",
    "    elif c == 3:\n",
    "        if n2 > n1:\n",
    "            maior = n2\n",
    "        print(f'O maior número é {maior}')\n",
    "    elif c == 4:\n",
    "        n1 = float(input('Digite o primeiro valor: '))\n",
    "        n2 = float(input('Digite o segundo valor: '))\n",
    "    elif c > 5:\n",
    "        print('Opção invalida, por favor tente novamente!')"
   ]
  },
  {
   "cell_type": "markdown",
   "id": "ba078f6c",
   "metadata": {},
   "source": [
    "# Exercício 60"
   ]
  },
  {
   "cell_type": "code",
   "execution_count": 18,
   "id": "3bef3223",
   "metadata": {},
   "outputs": [
    {
     "name": "stdout",
     "output_type": "stream",
     "text": [
      "Insira um número para calcular o seu fatorial: 4\n",
      "4! = 4 x 3 x 2 x 1 = 24\n"
     ]
    }
   ],
   "source": [
    "fatorial = 1\n",
    "n = int(input('Insira um número para calcular o seu fatorial: ')) \n",
    "print(f'{n}! = {n}', end = '')\n",
    "while n != 0:\n",
    "    fatorial *= n\n",
    "    n = n-1\n",
    "    if n != 0:\n",
    "        print(f' x {n}',end = '')\n",
    "print(f' = {fatorial}')"
   ]
  },
  {
   "cell_type": "markdown",
   "id": "ea82d72c",
   "metadata": {},
   "source": [
    "# Exercício 61"
   ]
  },
  {
   "cell_type": "code",
   "execution_count": 31,
   "id": "46c493e9",
   "metadata": {},
   "outputs": [
    {
     "name": "stdout",
     "output_type": "stream",
     "text": [
      "insira o primeiro termo de uma PA: 1\n",
      "insira a razão dessa PA: 1\n",
      "1.0 --> 2.0 --> 3.0 --> 4.0 --> 5.0 --> 6.0 --> 7.0 --> 8.0 --> 9.0 --> 10.0 "
     ]
    }
   ],
   "source": [
    "c = 0\n",
    "a = float(input('insira o primeiro termo de uma PA: '))\n",
    "r = float(input('insira a razão dessa PA: '))\n",
    "while c != 10:\n",
    "    print(f'{a+(c*r)} ', end = '')\n",
    "    print('--> ' if c < 9 else '' , end = '')\n",
    "    c += 1"
   ]
  },
  {
   "cell_type": "markdown",
   "id": "139d64e8",
   "metadata": {},
   "source": [
    "# Exercício 62"
   ]
  },
  {
   "cell_type": "code",
   "execution_count": 6,
   "id": "fec0add7",
   "metadata": {},
   "outputs": [
    {
     "name": "stdout",
     "output_type": "stream",
     "text": [
      "insira o primeiro termo de uma PA: 2\n",
      "insira a razão dessa PA: 2\n",
      "2.0 --> 4.0 --> 6.0 --> 8.0 --> 10.0 --> 12.0 --> 14.0 --> 16.0 --> 18.0 --> 20.0 --> PAUSA\n",
      "Quantos termos a mais você quer mostrar? 2\n",
      "22.0 --> PAUSA\n",
      "24.0 --> PAUSA\n",
      "Quantos termos a mais você quer mostrar? 3\n",
      "26.0 --> PAUSA\n",
      "28.0 --> PAUSA\n",
      "30.0 --> PAUSA\n",
      "Quantos termos a mais você quer mostrar? 4\n",
      "32.0 --> PAUSA\n",
      "34.0 --> PAUSA\n",
      "36.0 --> PAUSA\n",
      "38.0 --> PAUSA\n",
      "Quantos termos a mais você quer mostrar? 0\n",
      "Foram mostrados 19 dessa PA\n"
     ]
    }
   ],
   "source": [
    "termos = 0\n",
    "n = 1 \n",
    "count = 0\n",
    "a = float(input('insira o primeiro termo de uma PA: '))\n",
    "r = float(input('insira a razão dessa PA: '))\n",
    "while count != 10:\n",
    "    print(f'{a+(count*r)} --> ', end='')\n",
    "    count += 1\n",
    "    termos += 1\n",
    "print ('PAUSA')\n",
    "while n != 0:\n",
    "    n = int(input('Quantos termos a mais você quer mostrar? '))\n",
    "    while count != termos + n:\n",
    "        print(f'{a+(count*r)} --> ', end='')\n",
    "        count += 1\n",
    "        print ('PAUSA')\n",
    "    termos = termos + n\n",
    "print(f'Foram mostrados {termos} dessa PA')\n"
   ]
  },
  {
   "cell_type": "markdown",
   "id": "d3bf610d",
   "metadata": {},
   "source": [
    "# Exercício 63"
   ]
  },
  {
   "cell_type": "code",
   "execution_count": 2,
   "id": "e1935bee",
   "metadata": {},
   "outputs": [
    {
     "name": "stdout",
     "output_type": "stream",
     "text": [
      "Quantos termos da sequência de fibonacci deseja mostrar? 2\n",
      "0 --> 1 --> Pausa \n"
     ]
    }
   ],
   "source": [
    "t1 = 0\n",
    "t2 = 1\n",
    "t3 = 0\n",
    "c = 0\n",
    "n = int(input('Quantos termos da sequência de fibonacci deseja mostrar? '))\n",
    "while c != n:\n",
    "    if c == 0: \n",
    "        print(f'{t1} --> ', end = '')\n",
    "    else:\n",
    "        print(f'{t3} --> ', end = '')\n",
    "    t1 = t2\n",
    "    t2 = t3\n",
    "    t3 = t1 + t2\n",
    "    c += 1\n",
    "print('Pausa ')\n",
    "    "
   ]
  },
  {
   "cell_type": "markdown",
   "id": "f06a969a",
   "metadata": {},
   "source": [
    "# Exercício 64"
   ]
  },
  {
   "cell_type": "code",
   "execution_count": 5,
   "id": "bd33bb78",
   "metadata": {},
   "outputs": [
    {
     "name": "stdout",
     "output_type": "stream",
     "text": [
      "Insira um número, digite 999 caso queira encerrar o programa: 2\n",
      "Insira um número, digite 999 caso queira encerrar o programa: 4\n",
      "Insira um número, digite 999 caso queira encerrar o programa: 5\n",
      "Insira um número, digite 999 caso queira encerrar o programa: 999\n",
      "Foram digitados um total de 3 números e a o valor da soma de todos eles é 11\n"
     ]
    }
   ],
   "source": [
    "count = 0\n",
    "n = 0 \n",
    "soma = 0\n",
    "while n != 999:\n",
    "    soma += n \n",
    "    count += 1\n",
    "    n = int(input('Insira um número, digite 999 caso queira encerrar o programa: '))\n",
    "print(f'Foram digitados um total de {count-1} números e a o valor da soma de todos eles é {soma}')\n",
    "\n",
    "\n"
   ]
  },
  {
   "cell_type": "markdown",
   "id": "d52a39fa",
   "metadata": {},
   "source": [
    "# Exercício 65"
   ]
  },
  {
   "cell_type": "code",
   "execution_count": 2,
   "id": "64e6ec50",
   "metadata": {},
   "outputs": [
    {
     "name": "stdout",
     "output_type": "stream",
     "text": [
      "Digite um número: 2000\n",
      "Deseja continuar Sim ou Não: sim\n",
      "Digite um número: 500\n",
      "Deseja continuar Sim ou Não: sim\n",
      "Digite um número: 1000\n",
      "Deseja continuar Sim ou Não: no\n",
      "A media dos números é 1166.67 e o maior número é 2000 e o menor é 500\n"
     ]
    }
   ],
   "source": [
    "c = 0\n",
    "soma = 0\n",
    "maior = 0 \n",
    "menor = 0\n",
    "count = 0\n",
    "while c != 'n':\n",
    "    n = int(input('Digite um número: '))\n",
    "    c = str(input('Deseja continuar Sim ou Não: ')).lower().strip()[0]\n",
    "    soma += n\n",
    "    count += 1\n",
    "    if count == 1:\n",
    "        menor = n\n",
    "        maior = n\n",
    "    elif n > maior:\n",
    "        maior = n\n",
    "    elif n < menor:\n",
    "        menor = n\n",
    "media = (soma/count)\n",
    "print(f'A media dos números é {media:.2f} e o maior número é {maior} e o menor é {menor}')\n",
    "    \n",
    "        \n",
    "    \n"
   ]
  }
 ],
 "metadata": {
  "kernelspec": {
   "display_name": "Python 3 (ipykernel)",
   "language": "python",
   "name": "python3"
  },
  "language_info": {
   "codemirror_mode": {
    "name": "ipython",
    "version": 3
   },
   "file_extension": ".py",
   "mimetype": "text/x-python",
   "name": "python",
   "nbconvert_exporter": "python",
   "pygments_lexer": "ipython3",
   "version": "3.9.12"
  }
 },
 "nbformat": 4,
 "nbformat_minor": 5
}
